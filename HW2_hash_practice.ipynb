{
  "nbformat": 4,
  "nbformat_minor": 0,
  "metadata": {
    "colab": {
      "provenance": [],
      "authorship_tag": "ABX9TyMZEq4hcXgbJcblVDiLI9CR",
      "include_colab_link": true
    },
    "kernelspec": {
      "name": "python3",
      "display_name": "Python 3"
    },
    "language_info": {
      "name": "python"
    }
  },
  "cells": [
    {
      "cell_type": "markdown",
      "metadata": {
        "id": "view-in-github",
        "colab_type": "text"
      },
      "source": [
        "<a href=\"https://colab.research.google.com/github/sammmerlaw/HW2_hash_practice/blob/main/HW2_hash_practice.ipynb\" target=\"_parent\"><img src=\"https://colab.research.google.com/assets/colab-badge.svg\" alt=\"Open In Colab\"/></a>"
      ]
    },
    {
      "cell_type": "code",
      "execution_count": null,
      "metadata": {
        "id": "LKKNzBT3aAeB",
        "colab": {
          "base_uri": "https://localhost:8080/"
        },
        "outputId": "936a8cbf-e1da-45b6-8bfd-7073bb25db2e"
      },
      "outputs": [
        {
          "output_type": "stream",
          "name": "stdout",
          "text": [
            "Drive already mounted at /content/drive; to attempt to forcibly remount, call drive.mount(\"/content/drive\", force_remount=True).\n",
            "總共有10種英文字\n",
            "{'Cheese': 234, 'Pizza': 83, 'Coke': 145, 'Steak': 46, 'Burger': 196, 'Fries': 76, 'Rib': 33, 'Taco': 57, 'Pho': 19, 'Potato': 3}\n"
          ]
        }
      ],
      "source": [
        "#import data\n",
        "from google.colab import drive\n",
        "drive.mount('/content/drive')\n",
        "path='/content/drive/MyDrive/Colab Notebooks/hw2_data.txt'\n",
        "data_list=[]\n",
        "\n",
        "#turn list into dict\n",
        "def Convert(data_list):\n",
        "  res_dict={}\n",
        "  for i in range(0,len(data_list),2):\n",
        "    res_dict[data_list[i]]=data_list[i+1]\n",
        "  return res_dict\n",
        "\n",
        "#turn txt into list and add number for calculation\n",
        "with open(path,'r') as f:\n",
        "  data=f.readlines()\n",
        "  for word in data:\n",
        "    data=word.replace(\"\\n\",\"\")\n",
        "    data_list.append(data)\n",
        "    data_list.append(\"1\")\n",
        "\n",
        "#calculate the number of types of food\n",
        "line=\"總共有\"+str(len(Convert(data_list)))+\"種英文字\"\n",
        "print(line)\n",
        "\n",
        "# remove number in list\n",
        "for i in range(0,len(data_list),2):\n",
        "    data_list.remove(\"1\")\n",
        "\n",
        "#calculate the amount of food\n",
        "def Count(data_list):\n",
        "  data_dict={}\n",
        "  for i in range(0,len(data_list)):\n",
        "    if data_list[i] not in data_dict:\n",
        "      data_dict[data_list[i]]=1\n",
        "    else:\n",
        "      data_dict[data_list[i]]+=1\n",
        "  return data_dict\n",
        "\n",
        "print(Count(data_list))"
      ]
    }
  ]
}